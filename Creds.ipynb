{
 "cells": [
  {
   "cell_type": "code",
   "execution_count": 1,
   "metadata": {},
   "outputs": [],
   "source": [
    "import sqlite3"
   ]
  },
  {
   "cell_type": "code",
   "execution_count": null,
   "metadata": {},
   "outputs": [],
   "source": [
    "def create_table():\n",
    "    admin_db = sqlite3.connect(\"creds.db\")\n",
    "    cursor = admin_db.cursor()\n",
    "    cursor.execute(\n",
    "    \"\"\"\n",
    "    CREATE TABLE creds (\n",
    "        username TEXT,\n",
    "        password TEXT\n",
    "    )\n",
    "    \"\"\"\n",
    ")\n",
    "    admin_db.commit()\n",
    "    admin_db.close()"
   ]
  },
  {
   "cell_type": "code",
   "execution_count": null,
   "metadata": {},
   "outputs": [],
   "source": [
    "def create_user(username,password):\n",
    "    admin_db = sqlite3.connect(\"creds.db\")\n",
    "    cursor = admin_db.cursor()\n",
    "\n",
    "    cursor.execute(f\"INSERT INTO creds (username,password) VALUES ('{username}','{password}')\")\n",
    "    admin_db.commit()\n",
    "    admin_db.close()"
   ]
  }
 ],
 "metadata": {
  "kernelspec": {
   "display_name": "Python 3",
   "language": "python",
   "name": "python3"
  },
  "language_info": {
   "codemirror_mode": {
    "name": "ipython",
    "version": 3
   },
   "file_extension": ".py",
   "mimetype": "text/x-python",
   "name": "python",
   "nbconvert_exporter": "python",
   "pygments_lexer": "ipython3",
   "version": "3.9.6"
  },
  "orig_nbformat": 4,
  "vscode": {
   "interpreter": {
    "hash": "31f2aee4e71d21fbe5cf8b01ff0e069b9275f58929596ceb00d14d90e3e16cd6"
   }
  }
 },
 "nbformat": 4,
 "nbformat_minor": 2
}
